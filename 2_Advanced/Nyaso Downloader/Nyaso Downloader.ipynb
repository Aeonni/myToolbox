{
 "cells": [
  {
   "cell_type": "code",
   "execution_count": 24,
   "metadata": {},
   "outputs": [],
   "source": [
    "import os\n",
    "import requests\n",
    "from bs4 import BeautifulSoup\n",
    "from selenium import webdriver\n",
    "from selenium.webdriver.common.keys import Keys\n",
    "import multiprocessing as mp"
   ]
  },
  {
   "cell_type": "code",
   "execution_count": 40,
   "metadata": {},
   "outputs": [],
   "source": [
    "comic = '4240.html'\n",
    "save_path = '/Users/admin/Desktop/Domekano/'\n",
    "\n",
    "url_base = 'http://nyaso.com/comic/'\n",
    "url_index = url_base + comic\n",
    "\n",
    "UA = 'Mozilla/5.0 (Macintosh; Intel Mac OS X 10_13_0) AppleWebKit/537.36 (KHTML, like Gecko) Chrome/59.0.3071.86 Safari/537.36'\n",
    "header = {\"User-Agent\" : UA,}\n",
    "proxies={\n",
    "    'http':'127.0.0.1:1087',\n",
    "    'https':'127.0.0.1:1087'\n",
    "}\n",
    "\n"
   ]
  },
  {
   "cell_type": "code",
   "execution_count": 41,
   "metadata": {},
   "outputs": [],
   "source": [
    "# Get Episodes\n",
    "r = requests.get(url_index, headers=header, proxies=proxies)\n",
    "r.encoding = 'utf8'\n",
    "\n",
    "soup = BeautifulSoup(r.text, 'lxml')\n",
    "eps = soup.findAll('a', target='new')\n",
    "ep_list = []\n",
    "for e in eps:\n",
    "    ep_list.append({'name':e.text.replace(' ','-'),'link':e['href']})\n",
    "ep_list = sorted(ep_list, key=lambda x: x['name'])"
   ]
  },
  {
   "cell_type": "code",
   "execution_count": 42,
   "metadata": {},
   "outputs": [
    {
     "name": "stderr",
     "output_type": "stream",
     "text": [
      "/Library/Frameworks/Python.framework/Versions/3.6/lib/python3.6/site-packages/selenium/webdriver/phantomjs/webdriver.py:49: UserWarning: Selenium support for PhantomJS has been deprecated, please use headless versions of Chrome or Firefox instead\n",
      "  warnings.warn('Selenium support for PhantomJS has been deprecated, please use headless '\n"
     ]
    }
   ],
   "source": [
    "# Get Images\n",
    "service_args = [\n",
    "    '--proxy=127.0.0.1:1087',    # 代理 IP：prot    （eg：192.168.0.28:808）\n",
    "    '--proxy-type=http',            # 代理类型：http/https\n",
    "    '--ignore-ssl-errors=true'    # 忽略https错误（可选）\n",
    "]\n",
    "\n",
    "driver = webdriver.PhantomJS(executable_path='/usr/local/bin/phantomjs', service_args=service_args)\n",
    "driver.command_executor._commands['executePhantomScript'] = ('POST', '/session/$sessionId/phantom/execute')\n",
    "script = 'this.browserLog.push(this.evaluate(function(){var l = [];for (i = 0; i < gallery.data.length; i++){l.push({\"title\":gallery.data[i].title,\"url\":\"https:\"+gallery.data[i].slideUrl})} return l}))'\n",
    "def get_img_list(url):\n",
    "    while True: \n",
    "        try:\n",
    "            driver.get(url)\n",
    "            driver.execute('executePhantomScript', {'script': script, 'args': []})\n",
    "            return driver.get_log('browser')[0][:-1]\n",
    "#             break\n",
    "        except:\n",
    "            print('Error Loading Image List'+url)\n",
    "    "
   ]
  },
  {
   "cell_type": "code",
   "execution_count": 43,
   "metadata": {},
   "outputs": [],
   "source": [
    "def save_imgs(imgs, dir_):\n",
    "    os.system('mkdir '+save_path+dir_+'.ing')\n",
    "    print('Downloading...'+dir_)\n",
    "    for each in imgs:\n",
    "        while True: \n",
    "            try:\n",
    "                with open(save_path+dir_+'.ing/'+each['title'].replace(' ','-')+'.jpg','wb') as f:\n",
    "                    f.write(requests.get(each['url'], proxies=proxies, headers=header).content)\n",
    "#                     f.write(requests.get(each['url']).content, headers=header)\n",
    "                break\n",
    "            except:\n",
    "                print('Err: '+each['title'])\n",
    "    os.system('mv '+save_path+dir_+'.ing '+save_path+dir_)"
   ]
  },
  {
   "cell_type": "code",
   "execution_count": 44,
   "metadata": {},
   "outputs": [],
   "source": [
    "eb = ep_list"
   ]
  },
  {
   "cell_type": "code",
   "execution_count": 45,
   "metadata": {},
   "outputs": [
    {
     "data": {
      "text/plain": [
       "[{'name': '069话-18P', 'link': '424000692018001.html'},\n",
       " {'name': '077话-17P', 'link': '424000772017001.html'},\n",
       " {'name': '182话-18P', 'link': '424001822018001.html'},\n",
       " {'name': '177话-18P', 'link': '424001772018001.html'},\n",
       " {'name': '176话-18P', 'link': '424001762018001.html'},\n",
       " {'name': '183话-18P', 'link': '424001832018001.html'},\n",
       " {'name': '078话-21P', 'link': '424000782021001.html'},\n",
       " {'name': '075话-18P', 'link': '424000752018001.html'},\n",
       " {'name': '188话-18P', 'link': '424001882018001.html'},\n",
       " {'name': '073话-22P', 'link': '424000732022001.html'},\n",
       " {'name': '185话-18P', 'link': '424001852018001.html'},\n",
       " {'name': '074话-18P', 'link': '424000742018001.html'},\n",
       " {'name': '186话-18P', 'link': '424001862018001.html'},\n",
       " {'name': '174话-16P', 'link': '424001742016001.html'},\n",
       " {'name': '072话-17P', 'link': '424000722017001.html'},\n",
       " {'name': '168话-18P', 'link': '424001682018001.html'},\n",
       " {'name': '187话-18P', 'link': '424001872018001.html'},\n",
       " {'name': '076话-18P', 'link': '424000762018001.html'},\n",
       " {'name': '180话-18P', 'link': '424001802018001.html'},\n",
       " {'name': '179话-18P', 'link': '424001792018001.html'},\n",
       " {'name': '071话-18P', 'link': '424000712018001.html'},\n",
       " {'name': '175话-18P', 'link': '424001752018001.html'},\n",
       " {'name': '070话-18P', 'link': '424000702018001.html'},\n",
       " {'name': '178话-18P', 'link': '424001782018001.html'},\n",
       " {'name': '181话-18P', 'link': '424001812018001.html'},\n",
       " {'name': '217话-19P', 'link': '424002172019001.html'}]"
      ]
     },
     "execution_count": 45,
     "metadata": {},
     "output_type": "execute_result"
    }
   ],
   "source": [
    "ep_list = []\n",
    "for i in li:\n",
    "    ep_list.append(eb[i])\n",
    "ep_list.append(eb[-1])\n",
    "ep_list"
   ]
  },
  {
   "cell_type": "code",
   "execution_count": 49,
   "metadata": {
    "scrolled": true
   },
   "outputs": [
    {
     "name": "stdout",
     "output_type": "stream",
     "text": [
      "Downloading...069话-18P\n",
      "Downloading...077话-17P\n",
      "Downloading...182话-18P\n",
      "Error Loading Image Listhttp://nyaso.com/comic/424001772018001.html\n",
      "Downloading...177话-18P\n",
      "Error Loading Image Listhttp://nyaso.com/comic/424001762018001.html\n",
      "Error Loading Image Listhttp://nyaso.com/comic/424001762018001.html\n",
      "Downloading...176话-18P\n",
      "Downloading...183话-18P\n",
      "Downloading...078话-21P\n",
      "Error Loading Image Listhttp://nyaso.com/comic/424000752018001.html\n",
      "Error Loading Image Listhttp://nyaso.com/comic/424000752018001.html\n",
      "Error Loading Image Listhttp://nyaso.com/comic/424000752018001.html\n",
      "Error Loading Image Listhttp://nyaso.com/comic/424000752018001.html\n",
      "Downloading...075话-18P\n",
      "Downloading...188话-18P\n",
      "Downloading...073话-22P\n",
      "Err: 第75话 P9\n",
      "Downloading...185话-18P\n",
      "Downloading...074话-18P\n",
      "Downloading...186话-18P\n",
      "Error Loading Image Listhttp://nyaso.com/comic/424001742016001.html\n",
      "Downloading...174话-16P\n",
      "Downloading...072话-17P\n",
      "Error Loading Image Listhttp://nyaso.com/comic/424001682018001.html\n",
      "Error Loading Image Listhttp://nyaso.com/comic/424001682018001.html\n",
      "Error Loading Image Listhttp://nyaso.com/comic/424001872018001.html\n",
      "Error Loading Image Listhttp://nyaso.com/comic/424001872018001.html\n",
      "Error Loading Image Listhttp://nyaso.com/comic/424001872018001.html\n",
      "Downloading...168话-18P\n",
      "Downloading...187话-18P\n",
      "Downloading...076话-18P\n",
      "Error Loading Image Listhttp://nyaso.com/comic/424001802018001.html\n",
      "Error Loading Image Listhttp://nyaso.com/comic/424001802018001.html\n",
      "Downloading...180话-18P\n",
      "Err: 第75话 P9\n",
      "Err: 第78话 P15\n",
      "Err: 第188话 P5\n",
      "Err: 第183话 P15\n",
      "Err: 第73话 P3\n",
      "Downloading...179话-18P\n",
      "Downloading...071话-18P\n",
      "Downloading...175话-18P\n",
      "Downloading...070话-18P\n",
      "Err: 第179话 P10\n",
      "Err: 第71话 P7\n",
      "Downloading...178话-18P\n",
      "Downloading...181话-18P\n",
      "Error Loading Image Listhttp://nyaso.com/comic/424002172019001.html\n",
      "Error Loading Image Listhttp://nyaso.com/comic/424002172019001.html\n",
      "Error Loading Image Listhttp://nyaso.com/comic/424002172019001.html\n",
      "Downloading...217话-19P\n",
      "Err: 第181话 P9\n",
      "Err: 第181话 P9\n",
      "Err: 第181话 P9\n",
      "Err: 第181话 P9\n",
      "Err: 第181话 P9\n",
      "Err: 第181话 P9\n",
      "Err: 第181话 P9\n",
      "Err: 第181话 P9\n",
      "Err: 第181话 P9\n",
      "Err: 第181话 P9\n",
      "Err: 第181话 P9\n",
      "Err: 第181话 P9\n",
      "Err: 第181话 P9\n",
      "Err: 第181话 P9\n",
      "Err: 第181话 P9\n"
     ]
    }
   ],
   "source": [
    "pool = mp.Pool( processes=10 )\n",
    "\n",
    "for each in ep_list[:]:\n",
    "    pool.apply_async( save_imgs, [get_img_list(url_base+each['link']), each['name']] )"
   ]
  },
  {
   "cell_type": "code",
   "execution_count": 56,
   "metadata": {},
   "outputs": [],
   "source": [
    "import sys\n",
    "import os\n",
    "from reportlab.lib.pagesizes import A4, landscape\n",
    "from reportlab.pdfgen import canvas\n",
    "from PIL import Image\n",
    "\n",
    "os.chdir('/Users/aeonni/Desktop/Domekano/')"
   ]
  },
  {
   "cell_type": "code",
   "execution_count": 50,
   "metadata": {
    "scrolled": false
   },
   "outputs": [],
   "source": [
    "# 检查文件错误\n",
    "li = []\n",
    "d = []\n",
    "for each in os.listdir('/Users/aeonni/Desktop/Domekano/'):\n",
    "    if each not in [ '.DS_Store', 'PDF']:\n",
    "        for file in os.listdir('/Users/aeonni/Desktop/Domekano/'+each):\n",
    "            if file != '.DS_Store':\n",
    "                if int(file[file.find('第')+1:file.find('话')]) != int(each[:3]):\n",
    "                    print(each, file[file.find('第')+1:file.find('话')] )\n",
    "                    li.append(int(each[:3])-1)\n",
    "                    d.append(each)\n",
    "                    break"
   ]
  },
  {
   "cell_type": "code",
   "execution_count": 59,
   "metadata": {},
   "outputs": [],
   "source": [
    "def pic2pdf(path, name, savepath = './PDF/'):\n",
    "    fs = os.listdir(path)\n",
    "    # 删除非支持文件，并按照文件名排序\n",
    "    for each in fs: \n",
    "        if ('.jpg' or '.png' or '.jpeg') not in each:\n",
    "            fs.remove(each)\n",
    "#     fs = sorted(fs, key=lambda s: int(s[s.find('-P')+2:-4]))\n",
    "    fs = sorted(fs)\n",
    "#     print(fs)\n",
    "    # 寻找适合的画布大小\n",
    "    # w = 0\n",
    "    # h = 0\n",
    "    # for each in fs:\n",
    "    #     img = Image.open(path+each)\n",
    "    #     iw, ih = img.size\n",
    "    #     w = max(w,iw)\n",
    "    #     h = max(h,ih)\n",
    "    # 确定PDF的名称，并生成PDF\n",
    "    \n",
    "    f_pdf = savepath + name+'.pdf'\n",
    "    c = canvas.Canvas(f_pdf)\n",
    "    for each in fs:\n",
    "        # (w, h) = landscape(A4)\n",
    "        img = Image.open(path+each)\n",
    "        c.setPageSize(img.size)\n",
    "        # print(c._pagesize)\n",
    "        c.drawImage(path+each, 0, 0, img.size[0], img.size[1])\n",
    "        c.showPage()\n",
    "    c.save()\n",
    "    return f_pdf"
   ]
  },
  {
   "cell_type": "code",
   "execution_count": 39,
   "metadata": {
    "scrolled": true
   },
   "outputs": [
    {
     "name": "stdout",
     "output_type": "stream",
     "text": [
      ".DS_Store\n",
      "ERROR:  .DS_Store\n",
      "[御の萌漫屋][流石景]家有女友 第198.5话\n"
     ]
    }
   ],
   "source": [
    "for each in os.listdir():\n",
    "    print(each)\n",
    "    try:\n",
    "        pic2pdf(each+'/',each)\n",
    "    except:\n",
    "        print('ERROR: ',each)"
   ]
  },
  {
   "cell_type": "code",
   "execution_count": 33,
   "metadata": {},
   "outputs": [
    {
     "data": {
      "text/plain": [
       "'./PDF/065话-18P.pdf'"
      ]
     },
     "execution_count": 33,
     "metadata": {},
     "output_type": "execute_result"
    }
   ],
   "source": [
    "pic2pdf('065话-18P/','065话-18P')"
   ]
  },
  {
   "cell_type": "code",
   "execution_count": 1,
   "metadata": {},
   "outputs": [],
   "source": [
    "import sys\n",
    "import os"
   ]
  },
  {
   "cell_type": "code",
   "execution_count": 60,
   "metadata": {},
   "outputs": [],
   "source": [
    "for each in ep_list:\n",
    "     pic2pdf(each['name']+'/',each['name'])"
   ]
  },
  {
   "cell_type": "code",
   "execution_count": 48,
   "metadata": {},
   "outputs": [],
   "source": [
    "for each in d:\n",
    "    os.system('rm -r '+save_path+each)"
   ]
  },
  {
   "cell_type": "code",
   "execution_count": null,
   "metadata": {},
   "outputs": [],
   "source": []
  }
 ],
 "metadata": {
  "kernelspec": {
   "display_name": "Python 3",
   "language": "python",
   "name": "python3"
  },
  "language_info": {
   "codemirror_mode": {
    "name": "ipython",
    "version": 3
   },
   "file_extension": ".py",
   "mimetype": "text/x-python",
   "name": "python",
   "nbconvert_exporter": "python",
   "pygments_lexer": "ipython3",
   "version": "3.6.7"
  }
 },
 "nbformat": 4,
 "nbformat_minor": 2
}
